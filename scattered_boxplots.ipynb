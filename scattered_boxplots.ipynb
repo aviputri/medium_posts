{
 "cells": [
  {
   "cell_type": "code",
   "execution_count": 1,
   "metadata": {},
   "outputs": [
    {
     "data": {
      "text/html": [
       "<div>\n",
       "<style scoped>\n",
       "    .dataframe tbody tr th:only-of-type {\n",
       "        vertical-align: middle;\n",
       "    }\n",
       "\n",
       "    .dataframe tbody tr th {\n",
       "        vertical-align: top;\n",
       "    }\n",
       "\n",
       "    .dataframe thead th {\n",
       "        text-align: right;\n",
       "    }\n",
       "</style>\n",
       "<table border=\"1\" class=\"dataframe\">\n",
       "  <thead>\n",
       "    <tr style=\"text-align: right;\">\n",
       "      <th></th>\n",
       "      <th>data1</th>\n",
       "      <th>data2</th>\n",
       "      <th>data3</th>\n",
       "      <th>data4</th>\n",
       "    </tr>\n",
       "  </thead>\n",
       "  <tbody>\n",
       "    <tr>\n",
       "      <th>0</th>\n",
       "      <td>65.189308</td>\n",
       "      <td>81.289232</td>\n",
       "      <td>73.275888</td>\n",
       "      <td>89.532440</td>\n",
       "    </tr>\n",
       "    <tr>\n",
       "      <th>1</th>\n",
       "      <td>89.032591</td>\n",
       "      <td>69.507617</td>\n",
       "      <td>89.441062</td>\n",
       "      <td>81.082304</td>\n",
       "    </tr>\n",
       "    <tr>\n",
       "      <th>2</th>\n",
       "      <td>67.767442</td>\n",
       "      <td>85.001028</td>\n",
       "      <td>73.841586</td>\n",
       "      <td>80.860923</td>\n",
       "    </tr>\n",
       "    <tr>\n",
       "      <th>3</th>\n",
       "      <td>76.786531</td>\n",
       "      <td>93.286243</td>\n",
       "      <td>67.669334</td>\n",
       "      <td>69.812564</td>\n",
       "    </tr>\n",
       "    <tr>\n",
       "      <th>4</th>\n",
       "      <td>84.959977</td>\n",
       "      <td>62.505008</td>\n",
       "      <td>89.605520</td>\n",
       "      <td>79.611859</td>\n",
       "    </tr>\n",
       "  </tbody>\n",
       "</table>\n",
       "</div>"
      ],
      "text/plain": [
       "       data1      data2      data3      data4\n",
       "0  65.189308  81.289232  73.275888  89.532440\n",
       "1  89.032591  69.507617  89.441062  81.082304\n",
       "2  67.767442  85.001028  73.841586  80.860923\n",
       "3  76.786531  93.286243  67.669334  69.812564\n",
       "4  84.959977  62.505008  89.605520  79.611859"
      ]
     },
     "execution_count": 1,
     "metadata": {},
     "output_type": "execute_result"
    }
   ],
   "source": [
    "import numpy as np\n",
    "import pandas as pd\n",
    "import matplotlib.pyplot as plt\n",
    "import seaborn as sns\n",
    "import matplotlib\n",
    "font = {'family' : 'sans-serif',\n",
    "        'weight' : 'normal',\n",
    "        'size'   : 12}\n",
    "\n",
    "matplotlib.rc('font', **font)\n",
    "\n",
    "path = 'C:/Users/cfcoo/OneDrive - Ulster University/Ciaran/medium/figures'\n",
    "\n",
    "dataset = np.random.default_rng().uniform(60,95,(20,4))\n",
    "df = pd.DataFrame(dataset, columns=['data1','data2','data3','data4'])\n",
    "df.head()"
   ]
  },
  {
   "cell_type": "code",
   "execution_count": 4,
   "metadata": {},
   "outputs": [],
   "source": [
    "# setup dataframe with formatted data:\n",
    "y_data = []\n",
    "for column in df.keys():\n",
    "    y_data.append(df[column].values)\n",
    "    \n",
    "flatten = lambda fl: [item for sublist in fl for item in sublist]  \n",
    "\n",
    "y_data = flatten(y_data)\n",
    "df_A = pd.DataFrame(y_data, columns=[\"Accuracy\"])"
   ]
  },
  {
   "cell_type": "code",
   "execution_count": 3,
   "metadata": {},
   "outputs": [
    {
     "data": {
      "text/html": [
       "<div>\n",
       "<style scoped>\n",
       "    .dataframe tbody tr th:only-of-type {\n",
       "        vertical-align: middle;\n",
       "    }\n",
       "\n",
       "    .dataframe tbody tr th {\n",
       "        vertical-align: top;\n",
       "    }\n",
       "\n",
       "    .dataframe thead th {\n",
       "        text-align: right;\n",
       "    }\n",
       "</style>\n",
       "<table border=\"1\" class=\"dataframe\">\n",
       "  <thead>\n",
       "    <tr style=\"text-align: right;\">\n",
       "      <th></th>\n",
       "      <th>Accuracy</th>\n",
       "    </tr>\n",
       "  </thead>\n",
       "  <tbody>\n",
       "    <tr>\n",
       "      <th>75</th>\n",
       "      <td>70.408262</td>\n",
       "    </tr>\n",
       "    <tr>\n",
       "      <th>76</th>\n",
       "      <td>79.647162</td>\n",
       "    </tr>\n",
       "    <tr>\n",
       "      <th>77</th>\n",
       "      <td>86.694650</td>\n",
       "    </tr>\n",
       "    <tr>\n",
       "      <th>78</th>\n",
       "      <td>65.061525</td>\n",
       "    </tr>\n",
       "    <tr>\n",
       "      <th>79</th>\n",
       "      <td>87.225762</td>\n",
       "    </tr>\n",
       "  </tbody>\n",
       "</table>\n",
       "</div>"
      ],
      "text/plain": [
       "     Accuracy\n",
       "75  70.408262\n",
       "76  79.647162\n",
       "77  86.694650\n",
       "78  65.061525\n",
       "79  87.225762"
      ]
     },
     "execution_count": 3,
     "metadata": {},
     "output_type": "execute_result"
    }
   ],
   "source": [
    "df_A.tail()"
   ]
  },
  {
   "cell_type": "code",
   "execution_count": 5,
   "metadata": {},
   "outputs": [],
   "source": [
    "def get_category_names(df, *args):\n",
    "    \"\"\"\n",
    "    Convert column headings into list to be used as a categorical column.\n",
    "    Example df input:\n",
    "    Accuracy\n",
    "       50\n",
    "       52\n",
    "       89\n",
    "    Example *args input: 'Session 1', 'Session 2', 'Session 3' -- currently requires equal number of values per x_label\n",
    "\n",
    "    returns: (list) ['Session 1','Session 2','Session 3']\n",
    "    \"\"\"\n",
    "    arr = []\n",
    "    for arg in args:\n",
    "        arr.append([arg for n in range(int(len(df.index.values) / len(args)))])\n",
    "    return [i for n in arr for i in n]"
   ]
  },
  {
   "cell_type": "code",
   "execution_count": 5,
   "metadata": {},
   "outputs": [
    {
     "data": {
      "text/html": [
       "<div>\n",
       "<style scoped>\n",
       "    .dataframe tbody tr th:only-of-type {\n",
       "        vertical-align: middle;\n",
       "    }\n",
       "\n",
       "    .dataframe tbody tr th {\n",
       "        vertical-align: top;\n",
       "    }\n",
       "\n",
       "    .dataframe thead th {\n",
       "        text-align: right;\n",
       "    }\n",
       "</style>\n",
       "<table border=\"1\" class=\"dataframe\">\n",
       "  <thead>\n",
       "    <tr style=\"text-align: right;\">\n",
       "      <th></th>\n",
       "      <th>Accuracy</th>\n",
       "      <th>Category</th>\n",
       "    </tr>\n",
       "  </thead>\n",
       "  <tbody>\n",
       "    <tr>\n",
       "      <th>75</th>\n",
       "      <td>70.408262</td>\n",
       "      <td>data4</td>\n",
       "    </tr>\n",
       "    <tr>\n",
       "      <th>76</th>\n",
       "      <td>79.647162</td>\n",
       "      <td>data4</td>\n",
       "    </tr>\n",
       "    <tr>\n",
       "      <th>77</th>\n",
       "      <td>86.694650</td>\n",
       "      <td>data4</td>\n",
       "    </tr>\n",
       "    <tr>\n",
       "      <th>78</th>\n",
       "      <td>65.061525</td>\n",
       "      <td>data4</td>\n",
       "    </tr>\n",
       "    <tr>\n",
       "      <th>79</th>\n",
       "      <td>87.225762</td>\n",
       "      <td>data4</td>\n",
       "    </tr>\n",
       "  </tbody>\n",
       "</table>\n",
       "</div>"
      ],
      "text/plain": [
       "     Accuracy Category\n",
       "75  70.408262    data4\n",
       "76  79.647162    data4\n",
       "77  86.694650    data4\n",
       "78  65.061525    data4\n",
       "79  87.225762    data4"
      ]
     },
     "execution_count": 5,
     "metadata": {},
     "output_type": "execute_result"
    }
   ],
   "source": [
    "df_A[\"Category\"] = get_category_names(df_A, *df.columns.values) #x-axis data\n",
    "df_A.tail()"
   ]
  },
  {
   "cell_type": "code",
   "execution_count": 6,
   "metadata": {},
   "outputs": [
    {
     "data": {
      "text/html": [
       "<div>\n",
       "<style scoped>\n",
       "    .dataframe tbody tr th:only-of-type {\n",
       "        vertical-align: middle;\n",
       "    }\n",
       "\n",
       "    .dataframe tbody tr th {\n",
       "        vertical-align: top;\n",
       "    }\n",
       "\n",
       "    .dataframe thead th {\n",
       "        text-align: right;\n",
       "    }\n",
       "</style>\n",
       "<table border=\"1\" class=\"dataframe\">\n",
       "  <thead>\n",
       "    <tr style=\"text-align: right;\">\n",
       "      <th></th>\n",
       "      <th>Accuracy</th>\n",
       "      <th>Category</th>\n",
       "    </tr>\n",
       "  </thead>\n",
       "  <tbody>\n",
       "    <tr>\n",
       "      <th>0</th>\n",
       "      <td>62.912742</td>\n",
       "      <td>Experiment 1</td>\n",
       "    </tr>\n",
       "    <tr>\n",
       "      <th>1</th>\n",
       "      <td>72.648136</td>\n",
       "      <td>Experiment 1</td>\n",
       "    </tr>\n",
       "    <tr>\n",
       "      <th>2</th>\n",
       "      <td>64.498678</td>\n",
       "      <td>Experiment 1</td>\n",
       "    </tr>\n",
       "    <tr>\n",
       "      <th>3</th>\n",
       "      <td>84.493119</td>\n",
       "      <td>Experiment 1</td>\n",
       "    </tr>\n",
       "    <tr>\n",
       "      <th>4</th>\n",
       "      <td>87.764244</td>\n",
       "      <td>Experiment 1</td>\n",
       "    </tr>\n",
       "  </tbody>\n",
       "</table>\n",
       "</div>"
      ],
      "text/plain": [
       "    Accuracy      Category\n",
       "0  62.912742  Experiment 1\n",
       "1  72.648136  Experiment 1\n",
       "2  64.498678  Experiment 1\n",
       "3  84.493119  Experiment 1\n",
       "4  87.764244  Experiment 1"
      ]
     },
     "execution_count": 6,
     "metadata": {},
     "output_type": "execute_result"
    }
   ],
   "source": [
    "df_A[\"Category\"] = get_category_names(df_A, *['Experiment 1', 'Experiment 2', 'Experiment 3', 'Experimnet 4'])\n",
    "df_A.head()"
   ]
  },
  {
   "cell_type": "code",
   "execution_count": 7,
   "metadata": {},
   "outputs": [
    {
     "data": {
      "image/png": "[encoded data removed]",
      "text/plain": [
       "<matplotlib.figure.Figure at 0x1d4878e9518>"
      ]
     },
     "metadata": {},
     "output_type": "display_data"
    }
   ],
   "source": [
    "group = 'Category'  # x-axis\n",
    "column = 'Accuracy'  # y-axis\n",
    "grouped = df_A.groupby(group, sort=False)\n",
    "\n",
    "names, vals, xs = [], [], []\n",
    "\n",
    "for i, (name, subdf) in enumerate(grouped):\n",
    "    names.append(name)\n",
    "    vals.append(subdf[column].tolist())\n",
    "    xs.append(np.random.normal(i + 1, 0.04, subdf.shape[0]))  # adds jitter to the data points - can be adjusted\n",
    "\n",
    "plt.boxplot(vals, labels=names)  \n",
    "ngroup = len(vals)\n",
    "\n",
    "palette = ['r', 'g', 'b', 'y'] \n",
    "\n",
    "for x, val, c in zip(xs, vals, palette):\n",
    "    plt.scatter(x, val, alpha=0.4, color=c)\n",
    "\n",
    "plt.show()"
   ]
  },
  {
   "cell_type": "code",
   "execution_count": 8,
   "metadata": {},
   "outputs": [],
   "source": [
    "##### Set style options here #####\n",
    "sns.set_style(\"whitegrid\")  # \"white\",\"dark\",\"darkgrid\",\"ticks\"\n",
    "\n",
    "boxprops = dict(linestyle='-', linewidth=1.5, color='#00145A')\n",
    "flierprops = dict(marker='o', markersize=1,\n",
    "                  linestyle='none')\n",
    "whiskerprops = dict(color='#00145A')\n",
    "capprops = dict(color='#00145A')\n",
    "medianprops = dict(linewidth=1.5, linestyle='-', color='#01FBEE')  # colors median line"
   ]
  },
  {
   "cell_type": "code",
   "execution_count": 9,
   "metadata": {},
   "outputs": [
    {
     "data": {
      "image/png": "[encoded data removed]",
      "text/plain": [
       "<matplotlib.figure.Figure at 0x1d4878d62e8>"
      ]
     },
     "metadata": {},
     "output_type": "display_data"
    }
   ],
   "source": [
    "plt.boxplot(vals, labels=names, notch=False, boxprops=boxprops, whiskerprops=whiskerprops,\n",
    "            capprops=capprops, flierprops=flierprops, medianprops=medianprops,\n",
    "            showmeans=False)  # notch=True adds median notch\n",
    "ngroup = len(vals)\n",
    "\n",
    "palette = ['#FF2709', '#09FF10', '#0030D7', '#FA70B5']\n",
    "\n",
    "for x, val, c in zip(xs, vals, palette):\n",
    "    plt.scatter(x, val, alpha=0.4, color=c)\n",
    "    \n",
    "# plt.xlabel(\"Categorical\", fontweight='normal', fontsize=14)\n",
    "# plt.ylabel(\"Numerical\", fontweight='normal', fontsize=14)\n",
    "\n",
    "#sns.despine(bottom=True) # removes right and top axis lines\n",
    "#plt.axhline(y=65, color='#ff3300', linestyle='--', linewidth=1, label='Threshold Value')\n",
    "#plt.legend(bbox_to_anchor=(0.31, 1.06), loc=2, borderaxespad=0., framealpha=1, facecolor ='white', frameon=True)\n",
    "\n",
    "#plt.text(2.5, 81, 'high \\nmedian', ha='center', va='center', rotation='horizontal', fontsize=10)\n",
    "\n",
    "plt.show()"
   ]
  },
  {
   "cell_type": "code",
   "execution_count": 10,
   "metadata": {},
   "outputs": [
    {
     "data": {
      "image/png": "[encoded data removed]",
      "text/plain": [
       "<matplotlib.figure.Figure at 0x1d489a7fc88>"
      ]
     },
     "metadata": {},
     "output_type": "display_data"
    }
   ],
   "source": [
    "plt.boxplot(vals, labels=names, notch=False, boxprops=boxprops, whiskerprops=whiskerprops,\n",
    "            capprops=capprops, flierprops=flierprops, medianprops=medianprops,\n",
    "            showmeans=False)  # notch=True adds median notch\n",
    "ngroup = len(vals)\n",
    "\n",
    "palette = ['#FF2709', '#09FF10', '#0030D7', '#FA70B5']\n",
    "\n",
    "for x, val, c in zip(xs, vals, palette):\n",
    "    plt.scatter(x, val, alpha=0.4, color=c)\n",
    "    \n",
    "plt.xlabel(\"Categorical\", fontweight='normal', fontsize=14)\n",
    "plt.ylabel(\"Numerical\", fontweight='normal', fontsize=14)\n",
    "\n",
    "sns.despine(bottom=True) # removes right and top axis lines\n",
    "plt.axhline(y=65, color='#ff3300', linestyle='--', linewidth=1, label='Threshold Value')\n",
    "plt.legend(bbox_to_anchor=(0.31, 1.06), loc=2, borderaxespad=0., framealpha=1, facecolor ='white', frameon=True)\n",
    "\n",
    "plt.text(2.5, 81, 'high \\nmedian', ha='center', va='center', rotation='horizontal', fontsize=10)\n",
    "\n",
    "plt.show()"
   ]
  },
  {
   "cell_type": "code",
   "execution_count": 2,
   "metadata": {},
   "outputs": [
    {
     "data": {
      "text/html": [
       "<div>\n",
       "<style scoped>\n",
       "    .dataframe tbody tr th:only-of-type {\n",
       "        vertical-align: middle;\n",
       "    }\n",
       "\n",
       "    .dataframe tbody tr th {\n",
       "        vertical-align: top;\n",
       "    }\n",
       "\n",
       "    .dataframe thead th {\n",
       "        text-align: right;\n",
       "    }\n",
       "</style>\n",
       "<table border=\"1\" class=\"dataframe\">\n",
       "  <thead>\n",
       "    <tr style=\"text-align: right;\">\n",
       "      <th></th>\n",
       "      <th>data1</th>\n",
       "      <th>data2</th>\n",
       "      <th>data3</th>\n",
       "      <th>data4</th>\n",
       "    </tr>\n",
       "  </thead>\n",
       "  <tbody>\n",
       "    <tr>\n",
       "      <th>0</th>\n",
       "      <td>64.235733</td>\n",
       "      <td>54.885650</td>\n",
       "      <td>70.452019</td>\n",
       "      <td>79.121073</td>\n",
       "    </tr>\n",
       "    <tr>\n",
       "      <th>1</th>\n",
       "      <td>70.052917</td>\n",
       "      <td>73.063776</td>\n",
       "      <td>78.192614</td>\n",
       "      <td>66.699140</td>\n",
       "    </tr>\n",
       "    <tr>\n",
       "      <th>2</th>\n",
       "      <td>70.176276</td>\n",
       "      <td>51.056252</td>\n",
       "      <td>63.402041</td>\n",
       "      <td>71.045800</td>\n",
       "    </tr>\n",
       "    <tr>\n",
       "      <th>3</th>\n",
       "      <td>51.203560</td>\n",
       "      <td>64.874721</td>\n",
       "      <td>71.980853</td>\n",
       "      <td>74.946042</td>\n",
       "    </tr>\n",
       "    <tr>\n",
       "      <th>4</th>\n",
       "      <td>83.164970</td>\n",
       "      <td>56.069890</td>\n",
       "      <td>65.320748</td>\n",
       "      <td>65.980157</td>\n",
       "    </tr>\n",
       "  </tbody>\n",
       "</table>\n",
       "</div>"
      ],
      "text/plain": [
       "       data1      data2      data3      data4\n",
       "0  64.235733  54.885650  70.452019  79.121073\n",
       "1  70.052917  73.063776  78.192614  66.699140\n",
       "2  70.176276  51.056252  63.402041  71.045800\n",
       "3  51.203560  64.874721  71.980853  74.946042\n",
       "4  83.164970  56.069890  65.320748  65.980157"
      ]
     },
     "execution_count": 2,
     "metadata": {},
     "output_type": "execute_result"
    }
   ],
   "source": [
    "\"\"\"\n",
    "Part 2 - creating multiple scattered boxplots concurrently\n",
    "\"\"\"\n",
    "dataset = np.random.default_rng().uniform(60,95,(20,4))\n",
    "df = pd.DataFrame(dataset, columns=['data1','data2','data3','data4'])\n",
    "df.head()\n",
    "\n",
    "dataset = np.random.default_rng().uniform(50,86,(20,4))\n",
    "df_1 = pd.DataFrame(dataset, columns=['data1','data2','data3','data4'])\n",
    "df_1.head()"
   ]
  },
  {
   "cell_type": "code",
   "execution_count": 6,
   "metadata": {},
   "outputs": [
    {
     "data": {
      "text/html": [
       "<div>\n",
       "<style scoped>\n",
       "    .dataframe tbody tr th:only-of-type {\n",
       "        vertical-align: middle;\n",
       "    }\n",
       "\n",
       "    .dataframe tbody tr th {\n",
       "        vertical-align: top;\n",
       "    }\n",
       "\n",
       "    .dataframe thead th {\n",
       "        text-align: right;\n",
       "    }\n",
       "</style>\n",
       "<table border=\"1\" class=\"dataframe\">\n",
       "  <thead>\n",
       "    <tr style=\"text-align: right;\">\n",
       "      <th></th>\n",
       "      <th>Accuracy</th>\n",
       "      <th>Category</th>\n",
       "    </tr>\n",
       "  </thead>\n",
       "  <tbody>\n",
       "    <tr>\n",
       "      <th>0</th>\n",
       "      <td>64.235733</td>\n",
       "      <td>Experiment 1</td>\n",
       "    </tr>\n",
       "    <tr>\n",
       "      <th>1</th>\n",
       "      <td>70.052917</td>\n",
       "      <td>Experiment 1</td>\n",
       "    </tr>\n",
       "    <tr>\n",
       "      <th>2</th>\n",
       "      <td>70.176276</td>\n",
       "      <td>Experiment 1</td>\n",
       "    </tr>\n",
       "    <tr>\n",
       "      <th>3</th>\n",
       "      <td>51.203560</td>\n",
       "      <td>Experiment 1</td>\n",
       "    </tr>\n",
       "    <tr>\n",
       "      <th>4</th>\n",
       "      <td>83.164970</td>\n",
       "      <td>Experiment 1</td>\n",
       "    </tr>\n",
       "  </tbody>\n",
       "</table>\n",
       "</div>"
      ],
      "text/plain": [
       "    Accuracy      Category\n",
       "0  64.235733  Experiment 1\n",
       "1  70.052917  Experiment 1\n",
       "2  70.176276  Experiment 1\n",
       "3  51.203560  Experiment 1\n",
       "4  83.164970  Experiment 1"
      ]
     },
     "execution_count": 6,
     "metadata": {},
     "output_type": "execute_result"
    }
   ],
   "source": [
    "y_dataA, y_dataB = [], []\n",
    "for column in df.keys():\n",
    "    y_dataA.append(df[column].values)\n",
    "    y_dataB.append(df_1[column].values)\n",
    "\n",
    "y_dataA = flatten(y_dataA)\n",
    "y_dataB = flatten(y_dataB)\n",
    "df_A = pd.DataFrame(y_dataA, columns=[\"Accuracy\"]) #y-axis data\n",
    "df_B = pd.DataFrame(y_dataB, columns=[\"Accuracy\"])\n",
    "\n",
    "df_A[\"Category\"] = get_category_names(df_A, *['Experiment 1', 'Experiment 2', 'Experiment 3', 'Experimnet 4'])\n",
    "df_B[\"Category\"] = get_category_names(df_B, *['Experiment 1', 'Experiment 2', 'Experiment 3', 'Experimnet 4'])\n",
    "\n",
    "df_B.head()"
   ]
  },
  {
   "cell_type": "code",
   "execution_count": 7,
   "metadata": {},
   "outputs": [],
   "source": [
    "group = 'Category'  # x-axis\n",
    "column = 'Accuracy'  # y-axis\n",
    "groupedA = df_A.groupby(group, sort=False)\n",
    "groupedB = df_B.groupby(group, sort=False)\n",
    "\n",
    "namesA, valsA, xsA = [], [], []\n",
    "namesB, valsB, xsB = [], [], []\n",
    "\n",
    "for i, (name, subdf) in enumerate(groupedA):\n",
    "    namesA.append(name)\n",
    "    valsA.append(subdf[column].tolist())\n",
    "    xsA.append(np.random.normal(i + 1, 0.04, subdf.shape[0]))  # adds jitter to the data points - can be adjusted\n",
    "\n",
    "for i, (name, subdf) in enumerate(groupedB):\n",
    "    namesB.append(name)\n",
    "    valsB.append(subdf[column].tolist())\n",
    "    xsB.append(np.random.normal(i + 1, 0.04, subdf.shape[0]))  # adds jitter to the data points - can be adjusted"
   ]
  },
  {
   "cell_type": "code",
   "execution_count": 9,
   "metadata": {},
   "outputs": [
    {
     "data": {
      "image/png": "[encoded data removed]",
      "text/plain": [
       "<matplotlib.figure.Figure at 0x1e45f785400>"
      ]
     },
     "metadata": {},
     "output_type": "display_data"
    }
   ],
   "source": [
    "fig, (ax1, ax2) = plt.subplots(nrows=2, ncols=1, figsize=(5, 5))\n",
    "\n",
    "bplot1 = ax1.boxplot(valsA, labels=namesA, notch=False, showmeans=False)  \n",
    "\n",
    "bplot2 = ax2.boxplot(valsB, labels=namesB, notch=False, showmeans=False) \n",
    "\n",
    "palette = ['#33FF3B', '#3379FF', '#FFD633', '#33FFF1']\n",
    "\n",
    "for xA, xB, valA, valB, c in zip(xsA, xsB, valsA, valsB, palette):\n",
    "    ax1.scatter(xA, valA, alpha=0.4, color=c)\n",
    "    ax2.scatter(xB, valB, alpha=0.4, color=c)"
   ]
  },
  {
   "cell_type": "code",
   "execution_count": 11,
   "metadata": {},
   "outputs": [],
   "source": [
    "boxpropsA = dict(linestyle='-', linewidth=1, color='#33B3FF')\n",
    "flierpropsA = dict(marker='o', markersize=10,\n",
    "                  linestyle='none', markeredgecolor='g')\n",
    "whiskerpropsA = dict(color='#33B3FF')\n",
    "cappropsA = dict(color='#33B3FF')\n",
    "medianpropsA = dict(linewidth=1, linestyle='-', color='#33B3FF')  # colors median line\n",
    "\n",
    "boxpropsB = dict(linestyle='-', linewidth=1, color='#FF4533')\n",
    "flierpropsB = dict(marker='o', markersize=10, linestyle='none', markeredgecolor='g')\n",
    "whiskerpropsB = dict(color='#FF4533')\n",
    "cappropsB = dict(color='#FF4533')\n",
    "medianpropsB = dict(linewidth=1, linestyle='-', color='#FF4533')  # colors median line"
   ]
  },
  {
   "cell_type": "code",
   "execution_count": 13,
   "metadata": {},
   "outputs": [
    {
     "data": {
      "image/png": "[encoded data removed]",
      "text/plain": [
       "<matplotlib.figure.Figure at 0x1e45f987b00>"
      ]
     },
     "metadata": {},
     "output_type": "display_data"
    }
   ],
   "source": [
    "fig, (ax1, ax2) = plt.subplots(nrows=2, ncols=1, figsize=(5, 5))\n",
    "\n",
    "bplot1 = ax1.boxplot(valsA, labels=namesA, notch=False, boxprops=boxpropsA, whiskerprops=whiskerpropsA,\n",
    "            capprops=cappropsA, flierprops=flierpropsA, medianprops=medianpropsA,\n",
    "            showmeans=False)  # notch=True adds median notch\n",
    "\n",
    "bplot2 = ax2.boxplot(valsB, labels=namesB, notch=False, boxprops=boxpropsB, whiskerprops=whiskerpropsB,\n",
    "            capprops=cappropsB, flierprops=flierpropsB, medianprops=medianpropsB,\n",
    "            showmeans=False)  # notch=True adds median notch\n",
    "\n",
    "\n",
    "palette = ['#33FF3B', '#3379FF', '#FFD633', '#33FFF1']\n",
    "\n",
    "for xA, xB, valA, valB, c in zip(xsA, xsB, valsA, valsB, palette):\n",
    "    ax1.scatter(xA, valA, alpha=0.4, color=c)\n",
    "    ax2.scatter(xB, valB, alpha=0.4, color=c)"
   ]
  },
  {
   "cell_type": "code",
   "execution_count": 15,
   "metadata": {},
   "outputs": [
    {
     "data": {
      "text/plain": [
       "Text(0.04,0.5,'Classification accuracy (%)')"
      ]
     },
     "execution_count": 15,
     "metadata": {},
     "output_type": "execute_result"
    },
    {
     "data": {
      "image/png": "[encoded data removed]",
      "text/plain": [
       "<matplotlib.figure.Figure at 0x1e45fb1efd0>"
      ]
     },
     "metadata": {},
     "output_type": "display_data"
    }
   ],
   "source": [
    "fig, (ax1, ax2) = plt.subplots(nrows=2, ncols=1, figsize=(5, 5))\n",
    "\n",
    "bplot1 = ax1.boxplot(valsA, labels=namesA, notch=False, boxprops=boxpropsA, whiskerprops=whiskerpropsA,\n",
    "            capprops=cappropsA, flierprops=flierpropsA, medianprops=medianpropsA,\n",
    "            showmeans=False)  # notch=True adds median notch\n",
    "\n",
    "bplot2 = ax2.boxplot(valsB, labels=namesB, notch=False, boxprops=boxpropsB, whiskerprops=whiskerpropsB,\n",
    "            capprops=cappropsB, flierprops=flierpropsB, medianprops=medianpropsB,\n",
    "            showmeans=False)  # notch=True adds median notch\n",
    "\n",
    "\n",
    "palette = ['#33FF3B', '#3379FF', '#FFD633', '#33FFF1']\n",
    "labels = [1,2,3,4,5,6]\n",
    "for xA, xB, valA, valB, c, label in zip(xsA, xsB, valsA, valsB, palette, labels):\n",
    "    ax1.scatter(xA, valA, alpha=0.4, color=c, label=label)\n",
    "    ax2.scatter(xB, valB, alpha=0.4, color=c)\n",
    "\n",
    "sns.set_style(\"whitegrid\")\n",
    "\n",
    "for ax in fig.get_axes():\n",
    "    ax.label_outer()\n",
    "    sns.despine(ax=ax)\n",
    "    ax.set_ylim(50, 100)\n",
    "    ax.axhline(y=65, color='#ff3300', linestyle='--', linewidth=1, label='chance accuracy')\n",
    "\n",
    "fig.text(0.04, 0.5, 'Classification accuracy (%)', ha='center', va='center', rotation='vertical', fontsize=12)\n",
    "\n",
    "#lgd = ax1.legend(bbox_to_anchor=(1.005, 1), loc=2, borderaxespad=0.)"
   ]
  },
  {
   "cell_type": "code",
   "execution_count": null,
   "metadata": {},
   "outputs": [],
   "source": []
  }
 ],
 "metadata": {
  "kernelspec": {
   "display_name": "Python 3",
   "language": "python",
   "name": "python3"
  },
  "language_info": {
   "codemirror_mode": {
    "name": "ipython",
    "version": 3
   },
   "file_extension": ".py",
   "mimetype": "text/x-python",
   "name": "python",
   "nbconvert_exporter": "python",
   "pygments_lexer": "ipython3",
   "version": "3.6.4"
  }
 },
 "nbformat": 4,
 "nbformat_minor": 2
}
