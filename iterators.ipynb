{
 "cells": [
  {
   "cell_type": "code",
   "execution_count": 47,
   "metadata": {},
   "outputs": [],
   "source": [
    "import itertools"
   ]
  },
  {
   "cell_type": "code",
   "execution_count": 49,
   "metadata": {},
   "outputs": [
    {
     "name": "stdout",
     "output_type": "stream",
     "text": [
      "Ciaran\n",
      "Cooney\n"
     ]
    }
   ],
   "source": [
    "name = [\"Ciaran\", \"Cooney\"]\n",
    "it = iter(name)\n",
    "print(next(it))\n",
    "print(next(it))\n"
   ]
  },
  {
   "cell_type": "code",
   "execution_count": 50,
   "metadata": {},
   "outputs": [
    {
     "name": "stdout",
     "output_type": "stream",
     "text": [
      "[(1, 'a'), (2, 'b'), (3, 'c')]\n"
     ]
    }
   ],
   "source": [
    "\"\"\"\n",
    "The built-in zip function takes multiple iterables and returns an \n",
    "iterator over tuples containing their internal elements.\n",
    "Effectively the zip functions works by calling iter() and next()\n",
    "to to call and advacne through each of the input arguments before returning an iterator - iterator over the tuples\n",
    "\"\"\"\n",
    "\n",
    "a = zip([1,2,3], ['a','b','c'])\n",
    "print(list(a))"
   ]
  },
  {
   "cell_type": "code",
   "execution_count": 51,
   "metadata": {},
   "outputs": [
    {
     "name": "stdout",
     "output_type": "stream",
     "text": [
      "[5, 5]\n"
     ]
    }
   ],
   "source": [
    "\"\"\"\n",
    "Similar to zip(), map() is a nother built-in iterator operator. This one applies a\n",
    "function to each element in an interable before advancing to the next. Here, iter()\n",
    "is called on the second argument and the input function is applied to the corresponding element.\n",
    "Next() is then called until the iterator is exhausted.\n",
    "\"\"\"\n",
    "\n",
    "b = map(len, ['hello', 'world'])\n",
    "print(list(b))"
   ]
  },
  {
   "cell_type": "code",
   "execution_count": 52,
   "metadata": {},
   "outputs": [
    {
     "name": "stdout",
     "output_type": "stream",
     "text": [
      "[40, 96, 34]\n"
     ]
    }
   ],
   "source": [
    "\"\"\"\n",
    "Itertools docs refer to a concept called \"iterator algebra\". This allows us to\n",
    "combine the functionality of different iterators as these iterators are themselves\n",
    "iterators. \n",
    "\"\"\"\n",
    "print(list(map(sum, zip([20,10,20], [19,84,11], [1,2,3]))))"
   ]
  },
  {
   "cell_type": "code",
   "execution_count": 53,
   "metadata": {},
   "outputs": [
    {
     "name": "stdout",
     "output_type": "stream",
     "text": [
      "Hello\n",
      "my\n",
      "name\n",
      "is\n",
      "Ciaran\n"
     ]
    }
   ],
   "source": [
    "class MyClass():\n",
    "    \n",
    "    def __init__(self, container):\n",
    "        self.container = container\n",
    "    \n",
    "    def __iter__(self):\n",
    "        self.count = 0\n",
    "        return self\n",
    "    \n",
    "    def __next__(self):\n",
    "        if self.count < len(self.container):\n",
    "            x = self.container[self.count]\n",
    "            self.count += 1\n",
    "            return x\n",
    "        else:\n",
    "            raise StopIteration\n",
    "myclass = MyClass([\"Hello\", \"my\", \"name\", \"is\", \"Ciaran\"])\n",
    "myiter = iter(myclass)\n",
    "for x in myiter:\n",
    "    print(x)"
   ]
  },
  {
   "cell_type": "code",
   "execution_count": 54,
   "metadata": {},
   "outputs": [],
   "source": [
    "from itertools import dropwhile, groupby, permutations"
   ]
  },
  {
   "cell_type": "code",
   "execution_count": 55,
   "metadata": {},
   "outputs": [
    {
     "name": "stdout",
     "output_type": "stream",
     "text": [
      "[4, 5, 6, 7, 8, 9, 3]\n"
     ]
    }
   ],
   "source": [
    "print(list(dropwhile(lambda x: x<=3, [1,2,3,4,5,6,7,8,9,3])))"
   ]
  },
  {
   "cell_type": "code",
   "execution_count": 56,
   "metadata": {},
   "outputs": [
    {
     "name": "stdout",
     "output_type": "stream",
     "text": [
      "[[[1], 1], [[2, 2, 2, 2], 2], [[3], 3], [[4, 4, 4, 4], 4], [[5, 5], 5], [[2], 2], [[1, 1, 1, 1], 1]]\n"
     ]
    }
   ],
   "source": [
    "print(list(list((list(g), k)) for k, g in groupby([1,2,2,2,2,3,4,4,4,4,5,5,2,1,1,1,1])))"
   ]
  },
  {
   "cell_type": "code",
   "execution_count": 57,
   "metadata": {},
   "outputs": [
    {
     "name": "stdout",
     "output_type": "stream",
     "text": [
      "[(1, 2), (1, 3), (2, 1), (2, 3), (3, 1), (3, 2)]\n"
     ]
    }
   ],
   "source": [
    "print(list(permutations([1,2,3], 2)))"
   ]
  },
  {
   "cell_type": "code",
   "execution_count": 58,
   "metadata": {},
   "outputs": [
    {
     "name": "stdout",
     "output_type": "stream",
     "text": [
      "[(1, 2, 3), (1, 3, 2), (2, 1, 3), (2, 3, 1), (3, 1, 2), (3, 2, 1)]\n"
     ]
    }
   ],
   "source": [
    "print(list(permutations([1,2,3])))"
   ]
  },
  {
   "cell_type": "code",
   "execution_count": 38,
   "metadata": {},
   "outputs": [
    {
     "name": "stdout",
     "output_type": "stream",
     "text": [
      "time: 108.07000184059143\n"
     ]
    }
   ],
   "source": [
    "def sum_combinations(a, b):\n",
    "    combinations, results = [], []\n",
    "    for i in a:\n",
    "        for j in b:\n",
    "            combinations.append(tuple((i,j)))\n",
    "            results.append(sum((i,j)))\n",
    "    return combinations, results\n",
    "\n",
    "import time\n",
    "a = np.random.randint(5, size=10000)\n",
    "b = np.random.randint(5, size=10000)\n",
    "start = time.time()\n",
    "combs, res = sum_combinations(a,b)\n",
    "stop = time.time()\n",
    "#print(res)\n",
    "print(f\"time: {stop-start}\")"
   ]
  },
  {
   "cell_type": "code",
   "execution_count": 39,
   "metadata": {},
   "outputs": [
    {
     "name": "stdout",
     "output_type": "stream",
     "text": [
      "time: 34.44488835334778\n"
     ]
    }
   ],
   "source": [
    "start = time.time()\n",
    "res_1 = list(map(sum,itertools.product(a,b, repeat=1)))\n",
    "stop = time.time()\n",
    "print(f\"time: {stop-start}\")"
   ]
  }
 ],
 "metadata": {
  "kernelspec": {
   "display_name": "Python 3",
   "language": "python",
   "name": "python3"
  },
  "language_info": {
   "codemirror_mode": {
    "name": "ipython",
    "version": 3
   },
   "file_extension": ".py",
   "mimetype": "text/x-python",
   "name": "python",
   "nbconvert_exporter": "python",
   "pygments_lexer": "ipython3",
   "version": "3.6.4"
  }
 },
 "nbformat": 4,
 "nbformat_minor": 2
}
